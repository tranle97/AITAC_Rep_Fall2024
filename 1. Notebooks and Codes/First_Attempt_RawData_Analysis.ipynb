{
  "nbformat": 4,
  "nbformat_minor": 0,
  "metadata": {
    "colab": {
      "provenance": [],
      "gpuType": "T4"
    },
    "kernelspec": {
      "name": "python3",
      "display_name": "Python 3"
    },
    "language_info": {
      "name": "python"
    }
  },
  "cells": [
    {
      "cell_type": "markdown",
      "source": [
        "## Download the AI-TAC GitHub Repositories"
      ],
      "metadata": {
        "id": "gT83iCwEk0Jo"
      }
    },
    {
      "cell_type": "code",
      "execution_count": null,
      "metadata": {
        "colab": {
          "base_uri": "https://localhost:8080/"
        },
        "id": "rTTSt670dyC9",
        "outputId": "bc40a9a1-b4a1-4108-f870-7bcfca5f7088"
      },
      "outputs": [
        {
          "output_type": "stream",
          "name": "stdout",
          "text": [
            "Cloning into 'AI-TAC'...\n",
            "remote: Enumerating objects: 123, done.\u001b[K\n",
            "remote: Counting objects: 100% (31/31), done.\u001b[K\n",
            "remote: Compressing objects: 100% (16/16), done.\u001b[K\n",
            "remote: Total 123 (delta 21), reused 15 (delta 15), pack-reused 92 (from 1)\u001b[K\n",
            "Receiving objects: 100% (123/123), 11.16 MiB | 29.61 MiB/s, done.\n",
            "Resolving deltas: 100% (55/55), done.\n",
            "/content/AI-TAC\n",
            "code  _config.yml  data_processing  figures  LICENSE  models  README.md  sample_data\n"
          ]
        }
      ],
      "source": [
        "!git clone https://github.com/smaslova/AI-TAC.git\n",
        "\n",
        "# Check the contents:\n",
        "%cd AI-TAC\n",
        "!ls"
      ]
    },
    {
      "cell_type": "code",
      "source": [
        "# Install Required Libraries in Google Colab\n",
        "\n",
        "!pip install scanpy anndata matplotlib seaborn pandas numpy scipy\n",
        "!pip install tensorflow biopython\n"
      ],
      "metadata": {
        "colab": {
          "base_uri": "https://localhost:8080/"
        },
        "id": "R2DKxaZOlZLg",
        "outputId": "e7c37a68-efd5-4e5e-d958-0259d0a5a298"
      },
      "execution_count": null,
      "outputs": [
        {
          "output_type": "stream",
          "name": "stdout",
          "text": [
            "Collecting scanpy\n",
            "  Downloading scanpy-1.10.4-py3-none-any.whl.metadata (9.3 kB)\n",
            "Collecting anndata\n",
            "  Downloading anndata-0.11.1-py3-none-any.whl.metadata (8.2 kB)\n",
            "Requirement already satisfied: matplotlib in /usr/local/lib/python3.10/dist-packages (3.8.0)\n",
            "Requirement already satisfied: seaborn in /usr/local/lib/python3.10/dist-packages (0.13.2)\n",
            "Requirement already satisfied: pandas in /usr/local/lib/python3.10/dist-packages (2.2.2)\n",
            "Requirement already satisfied: numpy in /usr/local/lib/python3.10/dist-packages (1.26.4)\n",
            "Requirement already satisfied: scipy in /usr/local/lib/python3.10/dist-packages (1.13.1)\n",
            "Requirement already satisfied: h5py>=3.6 in /usr/local/lib/python3.10/dist-packages (from scanpy) (3.12.1)\n",
            "Requirement already satisfied: joblib in /usr/local/lib/python3.10/dist-packages (from scanpy) (1.4.2)\n",
            "Collecting legacy-api-wrap>=1.4 (from scanpy)\n",
            "  Downloading legacy_api_wrap-1.4.1-py3-none-any.whl.metadata (2.1 kB)\n",
            "Requirement already satisfied: natsort in /usr/local/lib/python3.10/dist-packages (from scanpy) (8.4.0)\n",
            "Requirement already satisfied: networkx>=2.7 in /usr/local/lib/python3.10/dist-packages (from scanpy) (3.4.2)\n",
            "Requirement already satisfied: numba>=0.56 in /usr/local/lib/python3.10/dist-packages (from scanpy) (0.60.0)\n",
            "Requirement already satisfied: packaging>=21.3 in /usr/local/lib/python3.10/dist-packages (from scanpy) (24.2)\n",
            "Requirement already satisfied: patsy!=1.0.0 in /usr/local/lib/python3.10/dist-packages (from scanpy) (1.0.1)\n",
            "Collecting pynndescent>=0.5 (from scanpy)\n",
            "  Downloading pynndescent-0.5.13-py3-none-any.whl.metadata (6.8 kB)\n",
            "Requirement already satisfied: scikit-learn>=1.1 in /usr/local/lib/python3.10/dist-packages (from scanpy) (1.5.2)\n",
            "Collecting session-info (from scanpy)\n",
            "  Downloading session_info-1.0.0.tar.gz (24 kB)\n",
            "  Preparing metadata (setup.py) ... \u001b[?25l\u001b[?25hdone\n",
            "Requirement already satisfied: statsmodels>=0.13 in /usr/local/lib/python3.10/dist-packages (from scanpy) (0.14.4)\n",
            "Requirement already satisfied: tqdm in /usr/local/lib/python3.10/dist-packages (from scanpy) (4.66.6)\n",
            "Collecting umap-learn!=0.5.0,>=0.5 (from scanpy)\n",
            "  Downloading umap_learn-0.5.7-py3-none-any.whl.metadata (21 kB)\n",
            "Collecting array-api-compat!=1.5,>1.4 (from anndata)\n",
            "  Downloading array_api_compat-1.9.1-py3-none-any.whl.metadata (1.6 kB)\n",
            "Requirement already satisfied: exceptiongroup in /usr/local/lib/python3.10/dist-packages (from anndata) (1.2.2)\n",
            "Requirement already satisfied: contourpy>=1.0.1 in /usr/local/lib/python3.10/dist-packages (from matplotlib) (1.3.1)\n",
            "Requirement already satisfied: cycler>=0.10 in /usr/local/lib/python3.10/dist-packages (from matplotlib) (0.12.1)\n",
            "Requirement already satisfied: fonttools>=4.22.0 in /usr/local/lib/python3.10/dist-packages (from matplotlib) (4.55.1)\n",
            "Requirement already satisfied: kiwisolver>=1.0.1 in /usr/local/lib/python3.10/dist-packages (from matplotlib) (1.4.7)\n",
            "Requirement already satisfied: pillow>=6.2.0 in /usr/local/lib/python3.10/dist-packages (from matplotlib) (11.0.0)\n",
            "Requirement already satisfied: pyparsing>=2.3.1 in /usr/local/lib/python3.10/dist-packages (from matplotlib) (3.2.0)\n",
            "Requirement already satisfied: python-dateutil>=2.7 in /usr/local/lib/python3.10/dist-packages (from matplotlib) (2.8.2)\n",
            "Requirement already satisfied: pytz>=2020.1 in /usr/local/lib/python3.10/dist-packages (from pandas) (2024.2)\n",
            "Requirement already satisfied: tzdata>=2022.7 in /usr/local/lib/python3.10/dist-packages (from pandas) (2024.2)\n",
            "Requirement already satisfied: llvmlite<0.44,>=0.43.0dev0 in /usr/local/lib/python3.10/dist-packages (from numba>=0.56->scanpy) (0.43.0)\n",
            "Requirement already satisfied: six>=1.5 in /usr/local/lib/python3.10/dist-packages (from python-dateutil>=2.7->matplotlib) (1.16.0)\n",
            "Requirement already satisfied: threadpoolctl>=3.1.0 in /usr/local/lib/python3.10/dist-packages (from scikit-learn>=1.1->scanpy) (3.5.0)\n",
            "Collecting stdlib_list (from session-info->scanpy)\n",
            "  Downloading stdlib_list-0.11.0-py3-none-any.whl.metadata (3.3 kB)\n",
            "Downloading scanpy-1.10.4-py3-none-any.whl (2.1 MB)\n",
            "\u001b[2K   \u001b[90m━━━━━━━━━━━━━━━━━━━━━━━━━━━━━━━━━━━━━━━━\u001b[0m \u001b[32m2.1/2.1 MB\u001b[0m \u001b[31m44.0 MB/s\u001b[0m eta \u001b[36m0:00:00\u001b[0m\n",
            "\u001b[?25hDownloading anndata-0.11.1-py3-none-any.whl (141 kB)\n",
            "\u001b[2K   \u001b[90m━━━━━━━━━━━━━━━━━━━━━━━━━━━━━━━━━━━━━━━━\u001b[0m \u001b[32m141.9/141.9 kB\u001b[0m \u001b[31m9.0 MB/s\u001b[0m eta \u001b[36m0:00:00\u001b[0m\n",
            "\u001b[?25hDownloading array_api_compat-1.9.1-py3-none-any.whl (50 kB)\n",
            "\u001b[2K   \u001b[90m━━━━━━━━━━━━━━━━━━━━━━━━━━━━━━━━━━━━━━━━\u001b[0m \u001b[32m50.1/50.1 kB\u001b[0m \u001b[31m3.4 MB/s\u001b[0m eta \u001b[36m0:00:00\u001b[0m\n",
            "\u001b[?25hDownloading legacy_api_wrap-1.4.1-py3-none-any.whl (10.0 kB)\n",
            "Downloading pynndescent-0.5.13-py3-none-any.whl (56 kB)\n",
            "\u001b[2K   \u001b[90m━━━━━━━━━━━━━━━━━━━━━━━━━━━━━━━━━━━━━━━━\u001b[0m \u001b[32m56.9/56.9 kB\u001b[0m \u001b[31m4.2 MB/s\u001b[0m eta \u001b[36m0:00:00\u001b[0m\n",
            "\u001b[?25hDownloading umap_learn-0.5.7-py3-none-any.whl (88 kB)\n",
            "\u001b[2K   \u001b[90m━━━━━━━━━━━━━━━━━━━━━━━━━━━━━━━━━━━━━━━━\u001b[0m \u001b[32m88.8/88.8 kB\u001b[0m \u001b[31m5.8 MB/s\u001b[0m eta \u001b[36m0:00:00\u001b[0m\n",
            "\u001b[?25hDownloading stdlib_list-0.11.0-py3-none-any.whl (83 kB)\n",
            "\u001b[2K   \u001b[90m━━━━━━━━━━━━━━━━━━━━━━━━━━━━━━━━━━━━━━━━\u001b[0m \u001b[32m83.6/83.6 kB\u001b[0m \u001b[31m6.0 MB/s\u001b[0m eta \u001b[36m0:00:00\u001b[0m\n",
            "\u001b[?25hBuilding wheels for collected packages: session-info\n",
            "  Building wheel for session-info (setup.py) ... \u001b[?25l\u001b[?25hdone\n",
            "  Created wheel for session-info: filename=session_info-1.0.0-py3-none-any.whl size=8023 sha256=0672ca1eefead3a0c174843e2de496abaa525a8c54c4180e6628463f0d1c24fc\n",
            "  Stored in directory: /root/.cache/pip/wheels/6a/aa/b9/eb5d4031476ec10802795b97ccf937b9bd998d68a9b268765a\n",
            "Successfully built session-info\n",
            "Installing collected packages: stdlib_list, legacy-api-wrap, array-api-compat, session-info, pynndescent, anndata, umap-learn, scanpy\n",
            "Successfully installed anndata-0.11.1 array-api-compat-1.9.1 legacy-api-wrap-1.4.1 pynndescent-0.5.13 scanpy-1.10.4 session-info-1.0.0 stdlib_list-0.11.0 umap-learn-0.5.7\n",
            "Requirement already satisfied: tensorflow in /usr/local/lib/python3.10/dist-packages (2.17.1)\n",
            "Collecting biopython\n",
            "  Downloading biopython-1.84-cp310-cp310-manylinux_2_17_x86_64.manylinux2014_x86_64.whl.metadata (12 kB)\n",
            "Requirement already satisfied: absl-py>=1.0.0 in /usr/local/lib/python3.10/dist-packages (from tensorflow) (1.4.0)\n",
            "Requirement already satisfied: astunparse>=1.6.0 in /usr/local/lib/python3.10/dist-packages (from tensorflow) (1.6.3)\n",
            "Requirement already satisfied: flatbuffers>=24.3.25 in /usr/local/lib/python3.10/dist-packages (from tensorflow) (24.3.25)\n",
            "Requirement already satisfied: gast!=0.5.0,!=0.5.1,!=0.5.2,>=0.2.1 in /usr/local/lib/python3.10/dist-packages (from tensorflow) (0.6.0)\n",
            "Requirement already satisfied: google-pasta>=0.1.1 in /usr/local/lib/python3.10/dist-packages (from tensorflow) (0.2.0)\n",
            "Requirement already satisfied: h5py>=3.10.0 in /usr/local/lib/python3.10/dist-packages (from tensorflow) (3.12.1)\n",
            "Requirement already satisfied: libclang>=13.0.0 in /usr/local/lib/python3.10/dist-packages (from tensorflow) (18.1.1)\n",
            "Requirement already satisfied: ml-dtypes<0.5.0,>=0.3.1 in /usr/local/lib/python3.10/dist-packages (from tensorflow) (0.4.1)\n",
            "Requirement already satisfied: opt-einsum>=2.3.2 in /usr/local/lib/python3.10/dist-packages (from tensorflow) (3.4.0)\n",
            "Requirement already satisfied: packaging in /usr/local/lib/python3.10/dist-packages (from tensorflow) (24.2)\n",
            "Requirement already satisfied: protobuf!=4.21.0,!=4.21.1,!=4.21.2,!=4.21.3,!=4.21.4,!=4.21.5,<5.0.0dev,>=3.20.3 in /usr/local/lib/python3.10/dist-packages (from tensorflow) (4.25.5)\n",
            "Requirement already satisfied: requests<3,>=2.21.0 in /usr/local/lib/python3.10/dist-packages (from tensorflow) (2.32.3)\n",
            "Requirement already satisfied: setuptools in /usr/local/lib/python3.10/dist-packages (from tensorflow) (75.1.0)\n",
            "Requirement already satisfied: six>=1.12.0 in /usr/local/lib/python3.10/dist-packages (from tensorflow) (1.16.0)\n",
            "Requirement already satisfied: termcolor>=1.1.0 in /usr/local/lib/python3.10/dist-packages (from tensorflow) (2.5.0)\n",
            "Requirement already satisfied: typing-extensions>=3.6.6 in /usr/local/lib/python3.10/dist-packages (from tensorflow) (4.12.2)\n",
            "Requirement already satisfied: wrapt>=1.11.0 in /usr/local/lib/python3.10/dist-packages (from tensorflow) (1.17.0)\n",
            "Requirement already satisfied: grpcio<2.0,>=1.24.3 in /usr/local/lib/python3.10/dist-packages (from tensorflow) (1.68.1)\n",
            "Requirement already satisfied: tensorboard<2.18,>=2.17 in /usr/local/lib/python3.10/dist-packages (from tensorflow) (2.17.1)\n",
            "Requirement already satisfied: keras>=3.2.0 in /usr/local/lib/python3.10/dist-packages (from tensorflow) (3.5.0)\n",
            "Requirement already satisfied: tensorflow-io-gcs-filesystem>=0.23.1 in /usr/local/lib/python3.10/dist-packages (from tensorflow) (0.37.1)\n",
            "Requirement already satisfied: numpy<2.0.0,>=1.23.5 in /usr/local/lib/python3.10/dist-packages (from tensorflow) (1.26.4)\n",
            "Requirement already satisfied: wheel<1.0,>=0.23.0 in /usr/local/lib/python3.10/dist-packages (from astunparse>=1.6.0->tensorflow) (0.45.1)\n",
            "Requirement already satisfied: rich in /usr/local/lib/python3.10/dist-packages (from keras>=3.2.0->tensorflow) (13.9.4)\n",
            "Requirement already satisfied: namex in /usr/local/lib/python3.10/dist-packages (from keras>=3.2.0->tensorflow) (0.0.8)\n",
            "Requirement already satisfied: optree in /usr/local/lib/python3.10/dist-packages (from keras>=3.2.0->tensorflow) (0.13.1)\n",
            "Requirement already satisfied: charset-normalizer<4,>=2 in /usr/local/lib/python3.10/dist-packages (from requests<3,>=2.21.0->tensorflow) (3.4.0)\n",
            "Requirement already satisfied: idna<4,>=2.5 in /usr/local/lib/python3.10/dist-packages (from requests<3,>=2.21.0->tensorflow) (3.10)\n",
            "Requirement already satisfied: urllib3<3,>=1.21.1 in /usr/local/lib/python3.10/dist-packages (from requests<3,>=2.21.0->tensorflow) (2.2.3)\n",
            "Requirement already satisfied: certifi>=2017.4.17 in /usr/local/lib/python3.10/dist-packages (from requests<3,>=2.21.0->tensorflow) (2024.8.30)\n",
            "Requirement already satisfied: markdown>=2.6.8 in /usr/local/lib/python3.10/dist-packages (from tensorboard<2.18,>=2.17->tensorflow) (3.7)\n",
            "Requirement already satisfied: tensorboard-data-server<0.8.0,>=0.7.0 in /usr/local/lib/python3.10/dist-packages (from tensorboard<2.18,>=2.17->tensorflow) (0.7.2)\n",
            "Requirement already satisfied: werkzeug>=1.0.1 in /usr/local/lib/python3.10/dist-packages (from tensorboard<2.18,>=2.17->tensorflow) (3.1.3)\n",
            "Requirement already satisfied: MarkupSafe>=2.1.1 in /usr/local/lib/python3.10/dist-packages (from werkzeug>=1.0.1->tensorboard<2.18,>=2.17->tensorflow) (3.0.2)\n",
            "Requirement already satisfied: markdown-it-py>=2.2.0 in /usr/local/lib/python3.10/dist-packages (from rich->keras>=3.2.0->tensorflow) (3.0.0)\n",
            "Requirement already satisfied: pygments<3.0.0,>=2.13.0 in /usr/local/lib/python3.10/dist-packages (from rich->keras>=3.2.0->tensorflow) (2.18.0)\n",
            "Requirement already satisfied: mdurl~=0.1 in /usr/local/lib/python3.10/dist-packages (from markdown-it-py>=2.2.0->rich->keras>=3.2.0->tensorflow) (0.1.2)\n",
            "Downloading biopython-1.84-cp310-cp310-manylinux_2_17_x86_64.manylinux2014_x86_64.whl (3.2 MB)\n",
            "\u001b[2K   \u001b[90m━━━━━━━━━━━━━━━━━━━━━━━━━━━━━━━━━━━━━━━━\u001b[0m \u001b[32m3.2/3.2 MB\u001b[0m \u001b[31m59.9 MB/s\u001b[0m eta \u001b[36m0:00:00\u001b[0m\n",
            "\u001b[?25hInstalling collected packages: biopython\n",
            "Successfully installed biopython-1.84\n",
            "\u001b[31mERROR: Could not find a version that satisfies the requirement preprocess_utils (from versions: none)\u001b[0m\u001b[31m\n",
            "\u001b[0m\u001b[31mERROR: No matching distribution found for preprocess_utils\u001b[0m\u001b[31m\n",
            "\u001b[0m"
          ]
        }
      ]
    },
    {
      "cell_type": "code",
      "source": [
        "#@title Mount Google Drive\n",
        "\n",
        "from google.colab import drive\n",
        "\n",
        "# The following command will prompt a URL for you to click and obtain the\n",
        "# authorization code\n",
        "\n",
        "drive.mount(\"/content/drive/\")\n",
        "\n",
        "# Set data file location\n",
        "# If you are running notebooks on your laptop, change this to the directory\n",
        "# where you put downloaded files\n",
        "\n",
        "from pathlib import Path\n",
        "\n",
        "DATA = Path(\"/content/drive/My Drive/ECBM E4060/Final Project Code\")"
      ],
      "metadata": {
        "colab": {
          "base_uri": "https://localhost:8080/"
        },
        "id": "NWju2Djpv-cB",
        "outputId": "b3bcda06-cad6-4a53-df2a-bcc613ff642f"
      },
      "execution_count": null,
      "outputs": [
        {
          "output_type": "stream",
          "name": "stdout",
          "text": [
            "Mounted at /content/drive/\n"
          ]
        }
      ]
    },
    {
      "cell_type": "markdown",
      "source": [
        "## Load the ImmGen dataset"
      ],
      "metadata": {
        "id": "HU06cYiIwBQ7"
      }
    },
    {
      "cell_type": "code",
      "source": [
        "import pandas as pd\n",
        "\n",
        "# Load the datasets\n",
        "ocrs = pd.read_csv(DATA / \"ImmGenATAC18_AllOCRsInfo.csv\")\n",
        "peaks = pd.read_csv(DATA / \"ImmGenATAC1219.peak_matched.txt\")\n",
        "normalized_peaks = pd.read_csv(DATA / \"mouse_peak_heights.csv\")\n",
        "reference_genome = DATA / \"mm10/\"  # Path to the reference genome FASTA files (e.g., chr1.fa, chr2.fa, ...)\n",
        "output_directory = DATA / \"Output Data/\"\n"
      ],
      "metadata": {
        "id": "9GA_TgOgqH2l"
      },
      "execution_count": null,
      "outputs": []
    },
    {
      "cell_type": "markdown",
      "source": [
        "## Preprocess Data"
      ],
      "metadata": {
        "id": "r2genUoUzceI"
      }
    },
    {
      "cell_type": "markdown",
      "source": [
        "## Preprocess_utils.py code"
      ],
      "metadata": {
        "id": "nplStmZu2pH3"
      }
    },
    {
      "cell_type": "code",
      "source": [
        "from Bio import SeqIO\n",
        "from Bio.Seq import Seq\n",
        "from Bio.SeqRecord import SeqRecord\n",
        "from collections import defaultdict\n",
        "import numpy as np\n",
        "\n",
        "# takes DNA sequence, outputs one-hot-encoded matrix with rows A, T, G, C\n",
        "def one_hot_encoder(sequence):\n",
        "    l = len(sequence)\n",
        "    x = np.zeros((4,l),dtype = 'int8')\n",
        "    for j, i in enumerate(sequence):\n",
        "        if i == \"A\" or i == \"a\":\n",
        "            x[0][j] = 1\n",
        "        elif i == \"T\" or i == \"t\":\n",
        "            x[1][j] = 1\n",
        "        elif i == \"G\" or i == \"g\":\n",
        "            x[2][j] = 1\n",
        "        elif i == \"C\" or i == \"c\":\n",
        "            x[3][j] = 1\n",
        "        else:\n",
        "            return \"contains_N\"\n",
        "    return x\n",
        "\n",
        "# read names and positions from bed file\n",
        "def read_bed(filename):\n",
        "    positions = defaultdict(list)\n",
        "    with open(filename) as f:\n",
        "        for line in f:\n",
        "            name, chr, start, stop = line.split()\n",
        "            positions[name].append((chr, int(start), int(stop)))\n",
        "\n",
        "    return positions\n",
        "\n",
        "# parse fasta file and turn into dictionary\n",
        "def read_fasta(genome_dir, num_chr):\n",
        "    chr_dict = dict()\n",
        "    for chr in range(1, num_chr):\n",
        "        chr_file_path = genome_dir + \"chr{}.fa\".format(chr)\n",
        "        chr_dict.update(SeqIO.to_dict(SeqIO.parse(open(chr_file_path), 'fasta')))\n",
        "\n",
        "    return chr_dict\n",
        "\n",
        "# get sequences for peaks from reference genome\n",
        "def get_sequences(positions, chr_dict, num_chr):\n",
        "    one_hot_seqs = []\n",
        "    peak_seqs = []\n",
        "    invalid_ids = []\n",
        "    peak_names = []\n",
        "\n",
        "    target_chr = [f\"Mus_musculus.GRCm39.dna.chromosome.{i}\" for i in range(1, num_chr)]\n",
        "\n",
        "    for name in positions:\n",
        "        for (chr, start, stop) in positions[name]:\n",
        "          if chr in target_chr:\n",
        "                chr_seq = chr_dict[chr].seq\n",
        "                peak_seq = str(chr_seq)[start - 1:stop].lower()\n",
        "                one_hot_seq = one_hot_encoder(peak_seq)\n",
        "\n",
        "                if isinstance(one_hot_seq, np.ndarray):  # it is valid sequence\n",
        "                    peak_names.append(name)\n",
        "                    peak_seqs.append(peak_seq)\n",
        "                    one_hot_seqs.append(one_hot_seq)\n",
        "                else:\n",
        "                    invalid_ids.append(name[20:])\n",
        "          else:\n",
        "                invalid_ids.append(name[20:])\n",
        "\n",
        "    one_hot_seqs = np.stack(one_hot_seqs)\n",
        "    peak_seqs = np.stack(peak_seqs)\n",
        "    peak_names = np.stack(peak_names)\n",
        "\n",
        "    return one_hot_seqs, peak_seqs, invalid_ids, peak_names\n",
        "\n",
        "def format_intensities(intensity_file, invalid_ids):\n",
        "    cell_type_array = []\n",
        "    peak_names = []\n",
        "    with open(intensity_file) as f:\n",
        "        for i, line in enumerate(f):\n",
        "            if i == 0: continue\n",
        "            columns = line.split()\n",
        "            peak_name = columns[0]\n",
        "            if '\\x1a' not in columns:\n",
        "                cell_act = columns[1:]\n",
        "                cell_type_array.append(cell_act)\n",
        "                peak_names.append(peak_name)\n",
        "\n",
        "    cell_type_array = np.stack(cell_type_array)\n",
        "    peak_names = np.stack(peak_names)\n",
        "\n",
        "    return cell_type_array, peak_names"
      ],
      "metadata": {
        "id": "dFuB5PRs2lC-"
      },
      "execution_count": null,
      "outputs": []
    },
    {
      "cell_type": "markdown",
      "source": [
        "## Preprocess_data.py Code"
      ],
      "metadata": {
        "id": "Nej2Lh2m2xZg"
      }
    },
    {
      "cell_type": "code",
      "source": [
        "import numpy as np\n",
        "import json\n",
        "import os\n",
        "import pickle as pickle\n",
        "\n",
        "# Load the datasets\n",
        "ocrs = pd.read_csv(DATA / \"ImmGenATAC18_AllOCRsInfo.csv\")\n",
        "peaks = pd.read_csv(DATA / \"ImmGenATAC1219.peak_matched.txt\")\n",
        "normalized_peaks = pd.read_csv(DATA / \"mouse_peak_heights.csv\")\n",
        "reference_genome = \"/content/drive/My Drive/ECBM E4060/Final Project Code/mm10/\"  # Path to the reference genome FASTA files (e.g., chr1.fa, chr2.fa, ...)\n",
        "output_directory = \"/content/drive/MyDrive/ECBM E4060/Final Project Code/data/\"\n",
        "pickle_file = \"/content/drive/MyDrive/ECBM E4060/Final Project Code/chr_dict.pickle\"\n",
        "\n",
        "# Create output directory if it doesn't exist\n",
        "directory = os.path.dirname(output_directory)\n",
        "if not os.path.exists(directory):\n",
        "    os.makedirs(directory)\n",
        "\n",
        "#parameters\n",
        "num_chr = 20\n",
        "\n",
        "# read bed file with peak positions, and keep only entries with valid activity vectors\n",
        "positions = read_bed(DATA / \"ImmGenATAC1219.peak_matched.txt\")\n",
        "\n",
        "# Function to read the reference genome fasta files and return a dictionary\n",
        "def read_fasta(genome_dir, num_chr):\n",
        "    chr_dict = {}\n",
        "    for chr_num in range(1, num_chr+1):  # Assume your chromosomes are numbered 1 to num_chr\n",
        "        chr_file_path = os.path.join(genome_dir, f\"Mus_musculus.GRCm39.dna.chromosome.{chr_num}.fa\")\n",
        "        if os.path.exists(chr_file_path):\n",
        "            chr_dict[f\"chr{chr_num}\"] = SeqIO.read(chr_file_path, \"fasta\")  # Read each chromosome\n",
        "        else:\n",
        "            print(f\"Warning: {chr_file_path} does not exist.\")\n",
        "    return chr_dict\n",
        "\n",
        "# Check if the pickled reference genome exists; if not, create it\n",
        "if not os.path.exists(pickle_file):\n",
        "    chr_dict = read_fasta(reference_genome, num_chr=20)  # Adjust num_chr if necessary\n",
        "    pickle.dump(chr_dict, open(pickle_file, \"wb\"))  # Save the dictionary for future use\n",
        "else:\n",
        "    # Load the pickled dictionary if it already exists\n",
        "    chr_dict = pickle.load(open(pickle_file, \"rb\"))\n",
        "\n",
        "# Now chr_dict is ready to be used in your code\n",
        "\n",
        "one_hot_seqs, peak_seqs, invalid_ids, peak_names = get_sequences(positions, chr_dict, num_chr)\n",
        "\n",
        "# remove invalid ids from intensities file so sequence/intensity files match\n",
        "cell_type_array, peak_names2 = format_intensities(normalized_peaks, invalid_ids)\n",
        "\n",
        "cell_type_array = cell_type_array.astype(np.float32)\n",
        "\n",
        "\n",
        "#take one_hot_sequences of only peaks that have associated intensity values in cell_type_array\n",
        "peak_ids = np.intersect1d(peak_names, peak_names2)\n",
        "\n",
        "idx = np.isin(peak_names, peak_ids)\n",
        "peak_names = peak_names[idx]\n",
        "one_hot_seqs = one_hot_seqs[idx, :, :]\n",
        "peak_seqs = peak_seqs[idx]\n",
        "\n",
        "idx2 = np.isin(peak_names2, peak_ids)\n",
        "peak_names2 = peak_names2[idx2]\n",
        "cell_type_array = cell_type_array[idx2, :]\n",
        "\n",
        "if np.sum(peak_names != peak_names2) > 0:\n",
        "    print(\"Order of peaks not matching for sequences/intensities!\")\n",
        "\n",
        "# write to file\n",
        "np.save(output_directory + 'one_hot_seqs.npy', one_hot_seqs)\n",
        "np.save(output_directory + 'peak_names.npy', peak_names)\n",
        "np.save(output_directory + 'peak_seqs.npy', peak_seqs)\n",
        "\n",
        "with open(output_directory + 'invalid_ids.txt', 'w') as f:\n",
        "    f.write(json.dumps(invalid_ids))\n",
        "f.close()\n",
        "\n",
        "#write fasta file\n",
        "with open(output_directory + 'sequences.fasta', 'w') as f:\n",
        "    for i in range(peak_seqs.shape[0]):\n",
        "        f.write('>' + peak_names[i] + '\\n')\n",
        "        f.write (peak_seqs[i] + '\\n')\n",
        "f.close()\n",
        "\n",
        "np.save(output_directory + 'cell_type_array.npy', cell_type_array)"
      ],
      "metadata": {
        "colab": {
          "base_uri": "https://localhost:8080/",
          "height": 350
        },
        "id": "6QoO87IK_hU-",
        "outputId": "bc35437b-e5ff-4117-f2c6-abeda13a4d98"
      },
      "execution_count": null,
      "outputs": [
        {
          "output_type": "error",
          "ename": "ValueError",
          "evalue": "need at least one array to stack",
          "traceback": [
            "\u001b[0;31m---------------------------------------------------------------------------\u001b[0m",
            "\u001b[0;31mValueError\u001b[0m                                Traceback (most recent call last)",
            "\u001b[0;32m<ipython-input-21-546a93bf10fe>\u001b[0m in \u001b[0;36m<cell line: 46>\u001b[0;34m()\u001b[0m\n\u001b[1;32m     44\u001b[0m \u001b[0;31m# Now chr_dict is ready to be used in your code\u001b[0m\u001b[0;34m\u001b[0m\u001b[0;34m\u001b[0m\u001b[0m\n\u001b[1;32m     45\u001b[0m \u001b[0;34m\u001b[0m\u001b[0m\n\u001b[0;32m---> 46\u001b[0;31m \u001b[0mone_hot_seqs\u001b[0m\u001b[0;34m,\u001b[0m \u001b[0mpeak_seqs\u001b[0m\u001b[0;34m,\u001b[0m \u001b[0minvalid_ids\u001b[0m\u001b[0;34m,\u001b[0m \u001b[0mpeak_names\u001b[0m \u001b[0;34m=\u001b[0m \u001b[0mget_sequences\u001b[0m\u001b[0;34m(\u001b[0m\u001b[0mpositions\u001b[0m\u001b[0;34m,\u001b[0m \u001b[0mchr_dict\u001b[0m\u001b[0;34m,\u001b[0m \u001b[0mnum_chr\u001b[0m\u001b[0;34m)\u001b[0m\u001b[0;34m\u001b[0m\u001b[0;34m\u001b[0m\u001b[0m\n\u001b[0m\u001b[1;32m     47\u001b[0m \u001b[0;34m\u001b[0m\u001b[0m\n\u001b[1;32m     48\u001b[0m \u001b[0;31m# remove invalid ids from intensities file so sequence/intensity files match\u001b[0m\u001b[0;34m\u001b[0m\u001b[0;34m\u001b[0m\u001b[0m\n",
            "\u001b[0;32m<ipython-input-20-a0ce42da5177>\u001b[0m in \u001b[0;36mget_sequences\u001b[0;34m(positions, chr_dict, num_chr)\u001b[0m\n\u001b[1;32m     66\u001b[0m                 \u001b[0minvalid_ids\u001b[0m\u001b[0;34m.\u001b[0m\u001b[0mappend\u001b[0m\u001b[0;34m(\u001b[0m\u001b[0mname\u001b[0m\u001b[0;34m[\u001b[0m\u001b[0;36m20\u001b[0m\u001b[0;34m:\u001b[0m\u001b[0;34m]\u001b[0m\u001b[0;34m)\u001b[0m\u001b[0;34m\u001b[0m\u001b[0;34m\u001b[0m\u001b[0m\n\u001b[1;32m     67\u001b[0m \u001b[0;34m\u001b[0m\u001b[0m\n\u001b[0;32m---> 68\u001b[0;31m     \u001b[0mone_hot_seqs\u001b[0m \u001b[0;34m=\u001b[0m \u001b[0mnp\u001b[0m\u001b[0;34m.\u001b[0m\u001b[0mstack\u001b[0m\u001b[0;34m(\u001b[0m\u001b[0mone_hot_seqs\u001b[0m\u001b[0;34m)\u001b[0m\u001b[0;34m\u001b[0m\u001b[0;34m\u001b[0m\u001b[0m\n\u001b[0m\u001b[1;32m     69\u001b[0m     \u001b[0mpeak_seqs\u001b[0m \u001b[0;34m=\u001b[0m \u001b[0mnp\u001b[0m\u001b[0;34m.\u001b[0m\u001b[0mstack\u001b[0m\u001b[0;34m(\u001b[0m\u001b[0mpeak_seqs\u001b[0m\u001b[0;34m)\u001b[0m\u001b[0;34m\u001b[0m\u001b[0;34m\u001b[0m\u001b[0m\n\u001b[1;32m     70\u001b[0m     \u001b[0mpeak_names\u001b[0m \u001b[0;34m=\u001b[0m \u001b[0mnp\u001b[0m\u001b[0;34m.\u001b[0m\u001b[0mstack\u001b[0m\u001b[0;34m(\u001b[0m\u001b[0mpeak_names\u001b[0m\u001b[0;34m)\u001b[0m\u001b[0;34m\u001b[0m\u001b[0;34m\u001b[0m\u001b[0m\n",
            "\u001b[0;32m/usr/local/lib/python3.10/dist-packages/numpy/core/shape_base.py\u001b[0m in \u001b[0;36mstack\u001b[0;34m(arrays, axis, out, dtype, casting)\u001b[0m\n\u001b[1;32m    443\u001b[0m     \u001b[0marrays\u001b[0m \u001b[0;34m=\u001b[0m \u001b[0;34m[\u001b[0m\u001b[0masanyarray\u001b[0m\u001b[0;34m(\u001b[0m\u001b[0marr\u001b[0m\u001b[0;34m)\u001b[0m \u001b[0;32mfor\u001b[0m \u001b[0marr\u001b[0m \u001b[0;32min\u001b[0m \u001b[0marrays\u001b[0m\u001b[0;34m]\u001b[0m\u001b[0;34m\u001b[0m\u001b[0;34m\u001b[0m\u001b[0m\n\u001b[1;32m    444\u001b[0m     \u001b[0;32mif\u001b[0m \u001b[0;32mnot\u001b[0m \u001b[0marrays\u001b[0m\u001b[0;34m:\u001b[0m\u001b[0;34m\u001b[0m\u001b[0;34m\u001b[0m\u001b[0m\n\u001b[0;32m--> 445\u001b[0;31m         \u001b[0;32mraise\u001b[0m \u001b[0mValueError\u001b[0m\u001b[0;34m(\u001b[0m\u001b[0;34m'need at least one array to stack'\u001b[0m\u001b[0;34m)\u001b[0m\u001b[0;34m\u001b[0m\u001b[0;34m\u001b[0m\u001b[0m\n\u001b[0m\u001b[1;32m    446\u001b[0m \u001b[0;34m\u001b[0m\u001b[0m\n\u001b[1;32m    447\u001b[0m     \u001b[0mshapes\u001b[0m \u001b[0;34m=\u001b[0m \u001b[0;34m{\u001b[0m\u001b[0marr\u001b[0m\u001b[0;34m.\u001b[0m\u001b[0mshape\u001b[0m \u001b[0;32mfor\u001b[0m \u001b[0marr\u001b[0m \u001b[0;32min\u001b[0m \u001b[0marrays\u001b[0m\u001b[0;34m}\u001b[0m\u001b[0;34m\u001b[0m\u001b[0;34m\u001b[0m\u001b[0m\n",
            "\u001b[0;31mValueError\u001b[0m: need at least one array to stack"
          ]
        }
      ]
    }
  ]
}